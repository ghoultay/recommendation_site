{
 "cells": [
  {
   "cell_type": "code",
   "execution_count": 2,
   "metadata": {},
   "outputs": [],
   "source": [
    "import pandas as pd\n",
    "import numpy as np"
   ]
  },
  {
   "cell_type": "code",
   "execution_count": 6,
   "metadata": {},
   "outputs": [
    {
     "name": "stdout",
     "output_type": "stream",
     "text": [
      "<class 'pandas.core.frame.DataFrame'>\n",
      "RangeIndex: 31588 entries, 0 to 31587\n",
      "Data columns (total 34 columns):\n",
      " #   Column                 Non-Null Count  Dtype  \n",
      "---  ------                 --------------  -----  \n",
      " 0   Unnamed: 0             31588 non-null  int64  \n",
      " 1   imdb_id                31588 non-null  object \n",
      " 2   id                     31588 non-null  int64  \n",
      " 3   movieId                31588 non-null  int64  \n",
      " 4   adult                  31588 non-null  bool   \n",
      " 5   title                  31588 non-null  object \n",
      " 6   belongs_to_collection  3844 non-null   object \n",
      " 7   budget                 31588 non-null  int64  \n",
      " 8   homepage               6037 non-null   object \n",
      " 9   original_language      31586 non-null  object \n",
      " 10  original_title         31588 non-null  object \n",
      " 11  overview               31222 non-null  object \n",
      " 12  popularity             31588 non-null  float64\n",
      " 13  poster_path            31580 non-null  object \n",
      " 14  production_companies   31588 non-null  object \n",
      " 15  production_countries   31588 non-null  object \n",
      " 16  release_date           31588 non-null  object \n",
      " 17  year                   31588 non-null  int64  \n",
      " 18  revenue                31588 non-null  float64\n",
      " 19  runtime                31588 non-null  float64\n",
      " 20  spoken_languages       31588 non-null  object \n",
      " 21  status                 31574 non-null  object \n",
      " 22  tagline                16426 non-null  object \n",
      " 23  video                  31588 non-null  bool   \n",
      " 24  vote_average           31588 non-null  float64\n",
      " 25  vote_count             31588 non-null  float64\n",
      " 26  cast                   31588 non-null  object \n",
      " 27  crew                   31588 non-null  object \n",
      " 28  keywords               31588 non-null  object \n",
      " 29  cast_size              31588 non-null  int64  \n",
      " 30  crew_size              31588 non-null  int64  \n",
      " 31  genres                 31588 non-null  object \n",
      " 32  director               31588 non-null  object \n",
      " 33  actors                 31588 non-null  object \n",
      "dtypes: bool(2), float64(5), int64(7), object(20)\n",
      "memory usage: 221.9 MB\n"
     ]
    }
   ],
   "source": [
    "smd = pd.read_csv('my_movies.csv')\n",
    "smd.info(memory_usage='deep')"
   ]
  },
  {
   "cell_type": "code",
   "execution_count": 7,
   "metadata": {},
   "outputs": [
    {
     "data": {
      "text/plain": [
       "Index(['imdb_id', 'id', 'movieId', 'adult', 'title', 'belongs_to_collection',\n",
       "       'budget', 'homepage', 'original_language', 'original_title', 'overview',\n",
       "       'popularity', 'poster_path', 'production_companies',\n",
       "       'production_countries', 'release_date', 'year', 'revenue', 'runtime',\n",
       "       'spoken_languages', 'status', 'tagline', 'video', 'vote_average',\n",
       "       'vote_count', 'cast', 'crew', 'keywords', 'cast_size', 'crew_size',\n",
       "       'genres', 'director', 'actors'],\n",
       "      dtype='object')"
      ]
     },
     "execution_count": 7,
     "metadata": {},
     "output_type": "execute_result"
    }
   ],
   "source": [
    "smd.drop(['Unnamed: 0'], axis=1, inplace=True)\n",
    "smd.columns"
   ]
  },
  {
   "cell_type": "code",
   "execution_count": 8,
   "metadata": {},
   "outputs": [],
   "source": [
    "smd.to_csv('my_movies.csv', index=False)"
   ]
  },
  {
   "cell_type": "code",
   "execution_count": 13,
   "metadata": {},
   "outputs": [],
   "source": [
    "V = np.load('v_mtrx.npy')"
   ]
  }
 ],
 "metadata": {
  "kernelspec": {
   "display_name": ".venv",
   "language": "python",
   "name": "python3"
  },
  "language_info": {
   "codemirror_mode": {
    "name": "ipython",
    "version": 3
   },
   "file_extension": ".py",
   "mimetype": "text/x-python",
   "name": "python",
   "nbconvert_exporter": "python",
   "pygments_lexer": "ipython3",
   "version": "3.11.4"
  }
 },
 "nbformat": 4,
 "nbformat_minor": 2
}
